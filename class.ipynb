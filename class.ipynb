{
  "nbformat": 4,
  "nbformat_minor": 0,
  "metadata": {
    "colab": {
      "provenance": [],
      "authorship_tag": "ABX9TyMF9GcIkAto4M8oJddECaUJ",
      "include_colab_link": true
    },
    "kernelspec": {
      "name": "python3",
      "display_name": "Python 3"
    },
    "language_info": {
      "name": "python"
    }
  },
  "cells": [
    {
      "cell_type": "markdown",
      "metadata": {
        "id": "view-in-github",
        "colab_type": "text"
      },
      "source": [
        "<a href=\"https://colab.research.google.com/github/mehranmo/PythonFunfair/blob/main/class.ipynb\" target=\"_parent\"><img src=\"https://colab.research.google.com/assets/colab-badge.svg\" alt=\"Open In Colab\"/></a>"
      ]
    },
    {
      "cell_type": "markdown",
      "source": [
        "Alright! Let's dive into the wild, wonderful world of Python classes. Grab your snake charming hat, because we're about to wrangle some code!\n",
        "\n",
        "#Part 1: What are Classes?\n",
        "Imagine a parallel universe where cats can code (It's 2023; if AIs can teach Python, then cats can code!). All cats are different, but they share common attributes, like number of legs (generally four), they meow, they're afraid of water, etc.\n",
        "\n",
        "In programming, we can use something called a \"class\" to define these common attributes. A class is like a blueprint for creating objects (particular data structures), providing initial values for state (member variables or attributes), and implementations of behavior (member functions or methods).\n",
        "\n",
        "In Python, let's make a \"Cat\" class:"
      ],
      "metadata": {
        "id": "EMpewLy160xB"
      }
    },
    {
      "cell_type": "code",
      "source": [
        "class Cat:\n",
        "    def __init__(self, name, color):\n",
        "        self.name = name\n",
        "        self.color = color\n",
        "\n",
        "    def meow(self):\n",
        "        return f\"{self.name} says, 'Meow! I’m a {self.color} cat!'\"\n"
      ],
      "metadata": {
        "id": "a7lHftlt7Ef6"
      },
      "execution_count": 15,
      "outputs": []
    },
    {
      "cell_type": "markdown",
      "source": [
        "Here, Cat is our class. It defines two functions (also known as methods), __init__ and meow.\n",
        "\n",
        "__init__ is a special method in Python classes. It's the constructor method. Whenever a new object is created from a class, __init__ is automatically called. self is a parameter to reference the instance of the class, and it gets passed in automatically."
      ],
      "metadata": {
        "id": "Gh868Yhp7IfZ"
      }
    },
    {
      "cell_type": "markdown",
      "source": [
        "#Part 2: Creating Objects\n",
        "Imagine the joy of having a cat without having to clean the litter box! In Python, you can have as many as you want. Each cat is an \"instance\" or \"object\" of the class. Let's create a couple of coding cats:"
      ],
      "metadata": {
        "id": "z4MPx7uZ7NEo"
      }
    },
    {
      "cell_type": "code",
      "source": [
        "cat1 = Cat('Codey', 'orange')\n",
        "cat2 = Cat('Bug', 'black')\n"
      ],
      "metadata": {
        "id": "K5CTJ0tQ7PiJ"
      },
      "execution_count": 16,
      "outputs": []
    },
    {
      "cell_type": "markdown",
      "source": [
        "Here, cat1 and cat2 are instances of the Cat class. We've given each one a name and color. Now, let's make them meow:"
      ],
      "metadata": {
        "id": "Ay2WT_I57Rj4"
      }
    },
    {
      "cell_type": "code",
      "source": [
        "print(cat1.meow())\n",
        "print(cat2.meow())\n"
      ],
      "metadata": {
        "colab": {
          "base_uri": "https://localhost:8080/"
        },
        "id": "OSXZt9Gh7SkY",
        "outputId": "570ef43d-59ae-4c1c-f8a6-e53960ab526a"
      },
      "execution_count": 17,
      "outputs": [
        {
          "output_type": "stream",
          "name": "stdout",
          "text": [
            "Codey says, 'Meow! I’m a orange cat!'\n",
            "Bug says, 'Meow! I’m a black cat!'\n"
          ]
        }
      ]
    },
    {
      "cell_type": "markdown",
      "source": [
        "If you run this code, you'll see:\n",
        "\n",
        "\n",
        "\n",
        "```\n",
        "Codey says, 'Meow! I’m a orange cat!'\n",
        "Bug says, 'Meow! I’m a black cat!'\n",
        "```\n",
        "\n"
      ],
      "metadata": {
        "id": "lC_2uK_07Usw"
      }
    },
    {
      "cell_type": "markdown",
      "source": [
        "Part 3: Class Variables vs Instance Variables\n",
        "Just like in real life, in the class-world, there are things that all cats share, and there are things that are unique to each cat.\n",
        "\n",
        "Shared things (like their dislike of dogs) are represented by class variables, while unique things (like name and color) are represented by instance variables.\n",
        "\n",
        "Let's extend our Cat class a bit:"
      ],
      "metadata": {
        "id": "8wSUYmNd7aag"
      }
    },
    {
      "cell_type": "code",
      "source": [
        "class Cat:\n",
        "    # Class variable\n",
        "    nemesis = 'Dog'\n",
        "\n",
        "    def __init__(self, name, color):\n",
        "        # Instance variables\n",
        "        self.name = name\n",
        "        self.color = color\n",
        "\n",
        "    def meow(self):\n",
        "        return f\"{self.name} says, 'Meow! I’m a {self.color} cat!'\"\n",
        "\n",
        "    def fear(self):\n",
        "        return f\"{self.name} runs away from the {self.nemesis}!\"\n"
      ],
      "metadata": {
        "id": "cRFp0PBP7djX"
      },
      "execution_count": 18,
      "outputs": []
    },
    {
      "cell_type": "markdown",
      "source": [
        "Now, if we make Codey express his fear:\n",
        "\n"
      ],
      "metadata": {
        "id": "k8WeKobg7f__"
      }
    },
    {
      "cell_type": "code",
      "source": [
        "cat1 = Cat('Codey', 'orange')\n",
        "print(cat1.fear())\n"
      ],
      "metadata": {
        "colab": {
          "base_uri": "https://localhost:8080/"
        },
        "id": "2Z34dRC27i3S",
        "outputId": "faeb4795-7404-4f35-d1f2-db5582f2b3c7"
      },
      "execution_count": 19,
      "outputs": [
        {
          "output_type": "stream",
          "name": "stdout",
          "text": [
            "Codey runs away from the Dog!\n"
          ]
        }
      ]
    },
    {
      "cell_type": "markdown",
      "source": [
        "You'll see:\n",
        "\n",
        "\n",
        "\n",
        "```\n",
        "Codey runs away from the Dog!\n",
        "```\n",
        "\n",
        "And there you have it! You've been introduced to the basics of classes in Python. Now go forth and code, and remember - dogs may be a cat's nemesis, but bugs are a coder's worst enemy. Keep coding and keep debugging!"
      ],
      "metadata": {
        "id": "oqwI6Yzp7nzw"
      }
    },
    {
      "cell_type": "markdown",
      "source": [
        "#Part 4: Advanced Class Concepts\n",
        "Alright, brace yourself! We're going to delve deeper into the wild jungles of Python classes. We'll face mysterious creatures like class methods, static methods, private and public attributes, and class assignments. This journey isn't for the faint-hearted, but I promise it'll be a fun ride!\n",
        "\n",
        "Class Method and Static Method:\n",
        "Let's add a little more detail to our Cat class. You see, cats, while they're quite independent, have a shared community goal: catch mice! So, we'll add a class variable total_mice_caught and a method catch_mouse. This is where it gets interesting, bear with me."
      ],
      "metadata": {
        "id": "pdP0lDOU7voo"
      }
    },
    {
      "cell_type": "code",
      "source": [
        "class Cat:\n",
        "    nemesis = 'Dog'\n",
        "    total_mice_caught = 0\n",
        "\n",
        "    def __init__(self, name, color):\n",
        "        self.name = name\n",
        "        self.color = color\n",
        "\n",
        "    def meow(self):\n",
        "        return f\"{self.name} says, 'Meow! I’m a {self.color} cat!'\"\n",
        "\n",
        "    def fear(self):\n",
        "        return f\"{self.name} runs away from the {self.nemesis}!\"\n",
        "    \n",
        "    @classmethod\n",
        "    def catch_mouse(cls):\n",
        "        cls.total_mice_caught += 1\n",
        "        return f\"The cats have caught {cls.total_mice_caught} mice!\"\n"
      ],
      "metadata": {
        "id": "cNBi81ZG72Go"
      },
      "execution_count": 27,
      "outputs": []
    },
    {
      "cell_type": "markdown",
      "source": [
        "The catch_mouse method is a class method, as indicated by the decorator @classmethod. It's a method that's bound to the class and not the instance of the object. It can modify a class state that would apply across all instances of the class.\n",
        "\n",
        "For example:\n",
        "\n"
      ],
      "metadata": {
        "id": "SdlAOmg573YD"
      }
    },
    {
      "cell_type": "code",
      "source": [
        "cat1 = Cat('Codey', 'orange')\n",
        "cat2 = Cat('Bug', 'black')\n",
        "\n",
        "print(Cat.catch_mouse())\n",
        "print(cat1.catch_mouse())\n",
        "print(cat2.catch_mouse())\n",
        "\n"
      ],
      "metadata": {
        "colab": {
          "base_uri": "https://localhost:8080/"
        },
        "id": "tSabWR767-AS",
        "outputId": "63f032d0-e7a6-4268-c44e-a8abd34b0436"
      },
      "execution_count": 28,
      "outputs": [
        {
          "output_type": "stream",
          "name": "stdout",
          "text": [
            "The cats have caught 1 mice!\n",
            "The cats have caught 2 mice!\n",
            "The cats have caught 3 mice!\n"
          ]
        }
      ]
    },
    {
      "cell_type": "markdown",
      "source": [
        "You'll see:\n",
        "\n",
        "\n",
        "\n",
        "```\n",
        "The cats have caught 1 mice!\n",
        "The cats have caught 2 mice!\n",
        "The cats have caught 3 mice!\n",
        "\n",
        "```\n",
        "\n"
      ],
      "metadata": {
        "id": "yHxhwNgZ7_po"
      }
    },
    {
      "cell_type": "markdown",
      "source": [
        "Now, for static methods. These are methods that don't modify the state of the class or the instance. They're utility functions that take in some parameters and work on those. For example, let's add a static method hear_sound to our Cat class:"
      ],
      "metadata": {
        "id": "JEBTU4mc8G2Z"
      }
    },
    {
      "cell_type": "code",
      "source": [
        "class Cat:\n",
        "    # ...\n",
        "    @staticmethod\n",
        "    def hear_sound(sound):\n",
        "        if sound == \"bark\":\n",
        "            return \"Cats run away... DOG ALERT!\"\n",
        "        else:\n",
        "            return \"Cats are curious and ready to explore!\"\n"
      ],
      "metadata": {
        "id": "aNuwzmPk8HtB"
      },
      "execution_count": 22,
      "outputs": []
    },
    {
      "cell_type": "markdown",
      "source": [
        "Usage:"
      ],
      "metadata": {
        "id": "0gMbga6M8JWQ"
      }
    },
    {
      "cell_type": "code",
      "source": [
        "print(Cat.hear_sound(\"bark\"))\n",
        "print(Cat.hear_sound(\"meow\"))\n"
      ],
      "metadata": {
        "colab": {
          "base_uri": "https://localhost:8080/"
        },
        "id": "-EVefgH_8L_J",
        "outputId": "abe78526-64ca-4cd2-a3f4-440abc987183"
      },
      "execution_count": 23,
      "outputs": [
        {
          "output_type": "stream",
          "name": "stdout",
          "text": [
            "Cats run away... DOG ALERT!\n",
            "Cats are curious and ready to explore!\n"
          ]
        }
      ]
    },
    {
      "cell_type": "markdown",
      "source": [
        "#Public and Private Attributes:\n",
        "In Python, there's no strict enforcement of private attributes, but we do have a naming convention for it.\n",
        "\n",
        "By convention, a name prefixed with an underscore (e.g. _secret_identity) should be treated as a non-public part of the API. It's considered as an implementation detail and subject to change without notice.\n",
        "\n",
        "If we really want to make sure that the attribute stays private, we use a double underscore (__) prefix. This causes the name to be \"mangled\" so it's harder to access.\n",
        "\n",
        "Let's add a secret identity to our cats (because what's cooler than a cat? A cat with a secret superhero identity!):"
      ],
      "metadata": {
        "id": "bTMy0f5S8Omk"
      }
    },
    {
      "cell_type": "code",
      "source": [
        "class Cat:\n",
        "    def __init__(self, name, color, secret_identity):\n",
        "        self.name = name\n",
        "        self.color = color\n",
        "        self.__secret_identity = secret_identity\n",
        "\n",
        "    def reveal_identity(self):\n",
        "        return f\"Shhh... {self.name}'s secret identity is {self.__secret_identity}!\"\n"
      ],
      "metadata": {
        "id": "u8CTZoZf8QkB"
      },
      "execution_count": 24,
      "outputs": []
    },
    {
      "cell_type": "markdown",
      "source": [
        "Inheritance:\n",
        "Python classes can also \"inherit\" attributes and methods from other classes. This is super handy when you want to create a specialized version of a class.\n",
        "\n",
        "Let's say we want to create a class \"SuperCat\", which is just like a regular Cat, but can also fly:"
      ],
      "metadata": {
        "id": "jmOnTeTT8SQw"
      }
    },
    {
      "cell_type": "code",
      "source": [
        "class SuperCat(Cat):\n",
        "    def __init__(self, name, color, secret_identity):\n",
        "        super().__init__(name, color, secret_identity)\n",
        "\n",
        "    def fly(self):\n",
        "        return f\"{self.name} takes off into the sky!\"\n"
      ],
      "metadata": {
        "id": "U59qO_cu8TX5"
      },
      "execution_count": 25,
      "outputs": []
    },
    {
      "cell_type": "markdown",
      "source": [
        "The super().__init__(name, color, secret_identity) line calls the constructor of the base (Cat) class, ensuring our SuperCat has all the properties of a regular Cat, but with added abilities.\n",
        "\n",
        "Phew, that was quite a bit of information, wasn't it? But worry not, with a bit of practice, these concepts will become second nature. Happy coding!"
      ],
      "metadata": {
        "id": "jJy7aYOi8UtD"
      }
    }
  ]
}