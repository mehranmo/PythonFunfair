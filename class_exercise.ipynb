{
  "nbformat": 4,
  "nbformat_minor": 0,
  "metadata": {
    "colab": {
      "provenance": [],
      "authorship_tag": "ABX9TyPmHNtZZ+7GjQ/MUYU6AR/k",
      "include_colab_link": true
    },
    "kernelspec": {
      "name": "python3",
      "display_name": "Python 3"
    },
    "language_info": {
      "name": "python"
    }
  },
  "cells": [
    {
      "cell_type": "markdown",
      "metadata": {
        "id": "view-in-github",
        "colab_type": "text"
      },
      "source": [
        "<a href=\"https://colab.research.google.com/github/mehranmo/PythonFunfair/blob/main/class_exercise.ipynb\" target=\"_parent\"><img src=\"https://colab.research.google.com/assets/colab-badge.svg\" alt=\"Open In Colab\"/></a>"
      ]
    },
    {
      "cell_type": "markdown",
      "source": [
        "You've got it! Here are some fun and interactive exercises to solidify your understanding of Python classes. Ready? Let's code!"
      ],
      "metadata": {
        "id": "e4_S7jWg9kAl"
      }
    },
    {
      "cell_type": "markdown",
      "source": [
        "#Exercise 1: The Social Cat\n",
        "Let's take our Cat class and give it a little more personality.\n",
        "\n",
        "1. Add an instance variable friends that is a list of other Cat objects.\n",
        "2. Add a method add_friend that accepts another Cat object and adds it to the cat's friends list.\n",
        "3. Add a method greet_friends that makes the cat greet each of its friends by name.\n",
        "\n",
        "Here's the starter code for you:"
      ],
      "metadata": {
        "id": "eDd5ohXs9pEb"
      }
    },
    {
      "cell_type": "code",
      "execution_count": null,
      "metadata": {
        "id": "GYwKiDUQ9U2k"
      },
      "outputs": [],
      "source": [
        "class Cat:\n",
        "    def __init__(self, name, color):\n",
        "        self.name = name\n",
        "        self.color = color\n",
        "        self.friends = []\n",
        "\n",
        "    # Add your methods here\n",
        "\n",
        "    # TODO: Implement the add_friend method.\n",
        "    # TODO: Implement the greet_friends method."
      ]
    },
    {
      "cell_type": "markdown",
      "source": [
        "# Exercise 2: The Hungry Cat\n",
        "Let's enhance our Cat class to keep track of how much each cat has eaten.\n",
        "\n",
        "1. Add a class variable total_food_eaten.\n",
        "2. Add an instance variable food_eaten.\n",
        "3. Add a method eat_food that accepts a quantity of food. It should add this quantity to both food_eaten and total_food_eaten.\n",
        "\n",
        "Here's the starter code:"
      ],
      "metadata": {
        "id": "mqV1XkJW9uXT"
      }
    },
    {
      "cell_type": "code",
      "source": [
        "class Cat:\n",
        "    total_food_eaten = 0\n",
        "\n",
        "    def __init__(self, name, color):\n",
        "        self.name = name\n",
        "        self.color = color\n",
        "        self.food_eaten = 0\n",
        "\n",
        "    # Add your method here\n",
        "\n",
        "    # TODO: Implement the eat_food method.\n"
      ],
      "metadata": {
        "id": "fEIvkack-BV0"
      },
      "execution_count": null,
      "outputs": []
    },
    {
      "cell_type": "markdown",
      "source": [
        "#Exercise 3: The Invisible Cat\n",
        "Have you ever heard of the Cheshire Cat? It's famous for turning invisible!\n",
        "\n",
        "1. Take the Cat class and add a visible instance variable that starts as True.\n",
        "2. Add a turn_invisible method that sets visible to False.\n",
        "3. Add a turn_visible method that sets visible to True.\n",
        "\n",
        "Here's the starter code:"
      ],
      "metadata": {
        "id": "cULLvP94-ChE"
      }
    },
    {
      "cell_type": "code",
      "source": [
        "class Cat:\n",
        "    def __init__(self, name, color):\n",
        "        self.name = name\n",
        "        self.color = color\n",
        "        self.visible = True\n",
        "\n",
        "    # Add your methods here\n",
        "  \n",
        "    # TODO: Implement the turn_invisible method.\n",
        "    # TODO: Implement the turn_visible method\n"
      ],
      "metadata": {
        "id": "feT26zgX-Oic"
      },
      "execution_count": null,
      "outputs": []
    },
    {
      "cell_type": "markdown",
      "source": [
        "#Exercise 4: The Super Cat (Inheritance)\n",
        "Remember our SuperCat class? Let's make it more interesting.\n",
        "\n",
        "1. Add a superpower instance variable to the SuperCat class.\n",
        "2. Add a method use_superpower that prints out a message involving the cat's name and its superpower.\n",
        "\n",
        "Here's the starter code:"
      ],
      "metadata": {
        "id": "xXrcfzpt-Q88"
      }
    },
    {
      "cell_type": "code",
      "source": [
        "class SuperCat(Cat):\n",
        "    def __init__(self, name, color, secret_identity, superpower):\n",
        "        super().__init__(name, color, secret_identity)\n",
        "        self.superpower = superpower\n",
        "\n",
        "    # Add your method here\n",
        "    # TODO: Implement the use_superpower method.\n",
        "\n",
        "\n",
        "    def fly(self):\n",
        "        return f\"{self.name} takes off into the sky!\"\n"
      ],
      "metadata": {
        "id": "6qQpVMJm-Ww7"
      },
      "execution_count": null,
      "outputs": []
    },
    {
      "cell_type": "markdown",
      "source": [
        "Once you complete these exercises, you'll have a comprehensive understanding of classes in Python! Happy coding, and remember to enjoy the process as much as the result."
      ],
      "metadata": {
        "id": "sWC_tHr3-WBb"
      }
    }
  ]
}